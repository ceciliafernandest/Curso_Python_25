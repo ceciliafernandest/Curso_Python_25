{
  "nbformat": 4,
  "nbformat_minor": 0,
  "metadata": {
    "colab": {
      "provenance": [],
      "authorship_tag": "ABX9TyOzA7pQMt+ka63ny/IYdjee",
      "include_colab_link": true
    },
    "kernelspec": {
      "name": "python3",
      "display_name": "Python 3"
    },
    "language_info": {
      "name": "python"
    }
  },
  "cells": [
    {
      "cell_type": "markdown",
      "metadata": {
        "id": "view-in-github",
        "colab_type": "text"
      },
      "source": [
        "<a href=\"https://colab.research.google.com/github/ceciliafernandest/Curso_Python_25/blob/main/primeiro_notebook.ipynb\" target=\"_parent\"><img src=\"https://colab.research.google.com/assets/colab-badge.svg\" alt=\"Open In Colab\"/></a>"
      ]
    },
    {
      "cell_type": "markdown",
      "source": [],
      "metadata": {
        "id": "6vOIeT4MmYLj"
      }
    },
    {
      "cell_type": "markdown",
      "source": [
        "# Variáveis e Tipos de Dados\n",
        "\n"
      ],
      "metadata": {
        "id": "LYcRu7yRmbWu"
      }
    },
    {
      "cell_type": "code",
      "source": [
        "#Usamos as variáveis para armazenar dados, os Tipos de Dados comuns em análises são: int, float, str, list e dict.\n",
        "\n",
        "nome_cliente = \"João Silva\" #string\n",
        "idade = 32 #int\n",
        "total_gasto = 1579.75 #float\n",
        "print(f\"Clientes: {nome_cliente}, Idade:{idade}, Total Gasto: R${total_gasto}\")"
      ],
      "metadata": {
        "colab": {
          "base_uri": "https://localhost:8080/"
        },
        "id": "i8xm6A7Pmfxs",
        "outputId": "4d0de150-143f-4ce0-af80-302cf0bdf370"
      },
      "execution_count": 2,
      "outputs": [
        {
          "output_type": "stream",
          "name": "stdout",
          "text": [
            "Clientes: João Silva, Idade:32, Total Gasto: R$1579.75\n"
          ]
        }
      ]
    },
    {
      "cell_type": "markdown",
      "source": [
        "# Lista e Dicionários\n"
      ],
      "metadata": {
        "id": "p_HUATNGnsZO"
      }
    },
    {
      "cell_type": "code",
      "source": [
        "#Listas são coleções de valores, como uma tabela com uma coluna. Dicionários são coleção de pares CHAVE-VALOR, semelhantes a registros de uma tabela.\n",
        "# Lista de vendas\n",
        "vendas = [\n",
        "    {\"produto\": \"Notebook\", \"quantidade\": 5, \"valor_unitario\": 3500.00},\n",
        "    {\"produto\": \"Mouse\", \"quantidade\": 15, \"valor_unitario\": 100.00},\n",
        "    {\"produto\": \"Teclado\", \"quantidade\": 7, \"valor_unitario\": 200.00},\n",
        "]\n",
        "\n",
        "# Calcular o faturamento total\n",
        "faturamento_total = sum([item[\"quantidade\"] * item[\"valor_unitario\"] for item in vendas])\n",
        "print(f\"Faturamento total: R$ {faturamento_total}\")\n"
      ],
      "metadata": {
        "colab": {
          "base_uri": "https://localhost:8080/"
        },
        "id": "842tt9wSnyuS",
        "outputId": "2fa8c2ce-5f97-4ef6-d906-61e2dd34ce82"
      },
      "execution_count": 3,
      "outputs": [
        {
          "output_type": "stream",
          "name": "stdout",
          "text": [
            "Faturamento total: R$ 20400.0\n"
          ]
        }
      ]
    },
    {
      "cell_type": "markdown",
      "source": [
        "#Estruturas de controle - IF | LOOP"
      ],
      "metadata": {
        "id": "owxW_LHsoMSH"
      }
    },
    {
      "cell_type": "code",
      "source": [
        "#If é uma condicional usada para executar ações baseadas em uma regra. FOR/WHILE são laços para repetir ações.\n",
        "# Produtos abaixo do valor mínimo de vendas\n",
        "valor_minimo = 1000\n",
        "produtos_abaixo = [item[\"produto\"] for item in vendas if item[\"quantidade\"] * item[\"valor_unitario\"] < valor_minimo]\n",
        "print(f\"Produtos com faturamento abaixo de R$ {valor_minimo}: {produtos_abaixo}\")\n"
      ],
      "metadata": {
        "colab": {
          "base_uri": "https://localhost:8080/"
        },
        "id": "-bXND2PooSNc",
        "outputId": "27371351-9077-496e-ec16-c7cfff0a36d8"
      },
      "execution_count": 4,
      "outputs": [
        {
          "output_type": "stream",
          "name": "stdout",
          "text": [
            "Produtos com faturamento abaixo de R$ 1000: []\n"
          ]
        }
      ]
    },
    {
      "cell_type": "markdown",
      "source": [
        "#Funções\n"
      ],
      "metadata": {
        "id": "FEPWhMqXovIy"
      }
    },
    {
      "cell_type": "code",
      "source": [
        "#Funções agrupam lógicas reutilizáveis, são utéis para padronizar cálculos ou operações repetitivas.\n",
        "#Ex. Criar uma função para calcular o faturamento total\n",
        "\n",
        "def calcular_faturamento(vendas):\n",
        "  return sum([item[\"quantidade\"]*item[\"valor_unitario\"] for item in vendas])\n",
        "\n",
        "faturamento = calcular_faturamento(vendas)\n",
        "print(f\"faturamento calculado pela função: R$ {faturamento}\")"
      ],
      "metadata": {
        "colab": {
          "base_uri": "https://localhost:8080/"
        },
        "id": "y6-_pFYjoyHA",
        "outputId": "895fec27-8d73-4a3a-ea60-b5f100b3d2ab"
      },
      "execution_count": 9,
      "outputs": [
        {
          "output_type": "stream",
          "name": "stdout",
          "text": [
            "faturamento calculado pela função: R$ 20400.0\n"
          ]
        }
      ]
    },
    {
      "cell_type": "markdown",
      "source": [
        "#Manipulação de Arquivo"
      ],
      "metadata": {
        "id": "7mgORXyIp0mc"
      }
    },
    {
      "cell_type": "code",
      "source": [
        "#Para ler e gravar arquivos para trabalhar com dados externos.\n",
        "with open(\"faturamento.txt\", \"w\") as arquivo:\n",
        "  arquivo.write(f\"Faturamento Total: R$ {faturamento}\")\n",
        "\n",
        "  print(\"Faturamento salvo no arquivo 'faturamento.txt\")"
      ],
      "metadata": {
        "colab": {
          "base_uri": "https://localhost:8080/"
        },
        "id": "K1FUCnI0p4DD",
        "outputId": "5e0107e1-cd04-40fd-ce0d-776f465faf54"
      },
      "execution_count": 8,
      "outputs": [
        {
          "output_type": "stream",
          "name": "stdout",
          "text": [
            "Faturamento salvo no arquivo 'faturamento.txt\n"
          ]
        }
      ]
    }
  ]
}