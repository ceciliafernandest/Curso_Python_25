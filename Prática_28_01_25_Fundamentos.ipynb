{
  "nbformat": 4,
  "nbformat_minor": 0,
  "metadata": {
    "colab": {
      "provenance": [],
      "authorship_tag": "ABX9TyN3YyWalmYG4qIHe1ZaFAvR",
      "include_colab_link": true
    },
    "kernelspec": {
      "name": "python3",
      "display_name": "Python 3"
    },
    "language_info": {
      "name": "python"
    }
  },
  "cells": [
    {
      "cell_type": "markdown",
      "metadata": {
        "id": "view-in-github",
        "colab_type": "text"
      },
      "source": [
        "<a href=\"https://colab.research.google.com/github/ceciliafernandest/Curso_Python_25/blob/main/Pr%C3%A1tica_28_01_25_Fundamentos.ipynb\" target=\"_parent\"><img src=\"https://colab.research.google.com/assets/colab-badge.svg\" alt=\"Open In Colab\"/></a>"
      ]
    },
    {
      "cell_type": "markdown",
      "source": [
        "1️⃣ Variáveis e Tipos de Dados\n",
        "\n",
        "\n",
        "Você recebeu informações de um novo cliente e precisa armazená-las em variáveis para futuras análises.\n",
        "\n",
        "Nome: Ana Souza (string)\n",
        "Idade: 28 (inteiro)\n",
        "Saldo em compras: 2350.75 (float)\n",
        "Crie essas variáveis e exiba a seguinte mensagem formatada usando f-string:\n",
        "Cliente: Ana Souza, Idade: 28 anos, Saldo em Compras: R$2350.75"
      ],
      "metadata": {
        "id": "cUc8mcouum0k"
      }
    },
    {
      "cell_type": "code",
      "source": [
        "cliente = \"Ana Souza\"\n",
        "idade = 28\n",
        "saldo_compras = 2350.75\n",
        "print(f\"Cliente: {cliente}, Idade: {idade}, Saldo em Compras: R${saldo_compras}\")"
      ],
      "metadata": {
        "colab": {
          "base_uri": "https://localhost:8080/"
        },
        "id": "crpu5mPHurJJ",
        "outputId": "0e38b242-fae1-4070-98d5-8b462b9c836d"
      },
      "execution_count": 3,
      "outputs": [
        {
          "output_type": "stream",
          "name": "stdout",
          "text": [
            "Cliente: Ana Souza, Idade: 28, Saldo em Compras: R$2350.75\n"
          ]
        }
      ]
    },
    {
      "cell_type": "markdown",
      "source": [
        "2️⃣ Listas e Dicionários\n",
        "\n",
        "Você tem um e-commerce e precisa armazenar os produtos vendidos. Cada produto deve ter nome, quantidade vendida e preço unitário."
      ],
      "metadata": {
        "id": "W0t0j6EFvpUZ"
      }
    },
    {
      "cell_type": "code",
      "source": [
        "ecommerce = [\n",
        "    {\"produto\": \"celular\", \"quantidade\": 2, \"preço_unitário_(R$)\": 1500.00},\n",
        "    {\"produto\": \"fone de ouvido\", \"quantidade\": 5, \"preço_unitário_(R$)\": 200.00},\n",
        "    {\"produto\": \"carregador\", \"quantidade\": 3, \"preço_unitário_(R$)\": 80.00},\n",
        "]\n",
        "faturamento_total = sum([item[\"quantidade\"] * item[\"preço_unitário_(R$)\"] for item in ecommerce])\n",
        "print (f\"Faturamento toatal: R$ {faturamento_total}\")"
      ],
      "metadata": {
        "colab": {
          "base_uri": "https://localhost:8080/"
        },
        "id": "R6KQw3EDvt5q",
        "outputId": "21c1ac08-ca91-4636-f8b2-570244bdba19"
      },
      "execution_count": 8,
      "outputs": [
        {
          "output_type": "stream",
          "name": "stdout",
          "text": [
            "Faturamento toatal: R$ 4240.0\n"
          ]
        }
      ]
    },
    {
      "cell_type": "markdown",
      "source": [
        "3️⃣ Condicionais (if/else)\n",
        "\n",
        "No seu e-commerce, os clientes ganham um desconto de 10% caso tenham gasto acima de R$1000 em compras.\n",
        "\n",
        "Peça ao usuário para inserir o valor gasto.\n",
        "Se for maior que 1000, aplique o desconto e mostre o novo valor.\n",
        "Caso contrário, informe que ele não tem desconto."
      ],
      "metadata": {
        "id": "pGOPwI_i5EOq"
      }
    },
    {
      "cell_type": "code",
      "source": [
        "#definir o valor gasto pelo cliente\n",
        "valor_gasto = float(input(\"Digite o valor gasto pelo cliente: R$ \"))\n",
        "\n",
        "#verificar se tem direito a desconto\n",
        "if valor_gasto > 1000:\n",
        "  novo_valor = valor_gasto * 0.9 #aplica 10% de desconto\n",
        "  print(f\"Você ganhou um desconto! O novo valor da compra é R${novo_valor:.2f}\")\n",
        "else:\n",
        "  print(\"Você não tem direito a desconto\")"
      ],
      "metadata": {
        "colab": {
          "base_uri": "https://localhost:8080/"
        },
        "id": "uEbqON54wPgg",
        "outputId": "69980854-932d-4ef7-821e-8e715da70337"
      },
      "execution_count": 10,
      "outputs": [
        {
          "output_type": "stream",
          "name": "stdout",
          "text": [
            "Digite o valor gasto pelo cliente: R$ 1200\n",
            "Você ganhou um desconto! O novo valor da compra é R$1080.00\n"
          ]
        }
      ]
    }
  ]
}