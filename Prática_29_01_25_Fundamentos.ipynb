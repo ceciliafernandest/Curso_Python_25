{
  "nbformat": 4,
  "nbformat_minor": 0,
  "metadata": {
    "colab": {
      "provenance": [],
      "authorship_tag": "ABX9TyMEwdGI9Mg8pPYv6jDTITM7",
      "include_colab_link": true
    },
    "kernelspec": {
      "name": "python3",
      "display_name": "Python 3"
    },
    "language_info": {
      "name": "python"
    }
  },
  "cells": [
    {
      "cell_type": "markdown",
      "metadata": {
        "id": "view-in-github",
        "colab_type": "text"
      },
      "source": [
        "<a href=\"https://colab.research.google.com/github/ceciliafernandest/Curso_Python_25/blob/main/Pr%C3%A1tica_29_01_25_Fundamentos.ipynb\" target=\"_parent\"><img src=\"https://colab.research.google.com/assets/colab-badge.svg\" alt=\"Open In Colab\"/></a>"
      ]
    },
    {
      "cell_type": "markdown",
      "source": [
        "1️⃣ Variáveis e Tipos de Dados\n",
        "\n",
        "\n",
        "Você recebeu informações de um novo cliente e precisa armazená-las em variáveis para futuras análises.\n",
        "\n",
        "Nome: Ana Souza (string)\n",
        "Idade: 28 (inteiro)\n",
        "Saldo em compras: 2350.75 (float)\n",
        "Crie essas variáveis e exiba a seguinte mensagem formatada usando f-string:\n",
        "Cliente: Ana Souza, Idade: 28 anos, Saldo em Compras: R$2350.75"
      ],
      "metadata": {
        "id": "cUc8mcouum0k"
      }
    },
    {
      "cell_type": "code",
      "source": [
        "cliente = \"Ana Souza\"\n",
        "idade = 28\n",
        "saldo_compras = 2350.75\n",
        "print(f\"Cliente: {cliente}, Idade: {idade}, Saldo em Compras: R${saldo_compras}\")"
      ],
      "metadata": {
        "colab": {
          "base_uri": "https://localhost:8080/"
        },
        "id": "crpu5mPHurJJ",
        "outputId": "0e38b242-fae1-4070-98d5-8b462b9c836d"
      },
      "execution_count": null,
      "outputs": [
        {
          "output_type": "stream",
          "name": "stdout",
          "text": [
            "Cliente: Ana Souza, Idade: 28, Saldo em Compras: R$2350.75\n"
          ]
        }
      ]
    },
    {
      "cell_type": "markdown",
      "source": [
        "2️⃣ Listas e Dicionários\n",
        "\n",
        "Você tem um e-commerce e precisa armazenar os produtos vendidos. Cada produto deve ter nome, quantidade vendida e preço unitário."
      ],
      "metadata": {
        "id": "W0t0j6EFvpUZ"
      }
    },
    {
      "cell_type": "code",
      "source": [
        "ecommerce = [\n",
        "    {\"produto\": \"celular\", \"quantidade\": 2, \"preço_unitário_(R$)\": 1500.00},\n",
        "    {\"produto\": \"fone de ouvido\", \"quantidade\": 5, \"preço_unitário_(R$)\": 200.00},\n",
        "    {\"produto\": \"carregador\", \"quantidade\": 3, \"preço_unitário_(R$)\": 80.00},\n",
        "]\n",
        "faturamento_total = sum([item[\"quantidade\"] * item[\"preço_unitário_(R$)\"] for item in ecommerce])\n",
        "print (f\"Faturamento toatal: R$ {faturamento_total}\")"
      ],
      "metadata": {
        "colab": {
          "base_uri": "https://localhost:8080/"
        },
        "id": "R6KQw3EDvt5q",
        "outputId": "21c1ac08-ca91-4636-f8b2-570244bdba19"
      },
      "execution_count": null,
      "outputs": [
        {
          "output_type": "stream",
          "name": "stdout",
          "text": [
            "Faturamento toatal: R$ 4240.0\n"
          ]
        }
      ]
    },
    {
      "cell_type": "markdown",
      "source": [
        "3️⃣ Condicionais (if/else)\n",
        "\n",
        "No seu e-commerce, os clientes ganham um desconto de 10% caso tenham gasto acima de R$1000 em compras.\n",
        "\n",
        "Peça ao usuário para inserir o valor gasto.\n",
        "Se for maior que 1000, aplique o desconto e mostre o novo valor.\n",
        "Caso contrário, informe que ele não tem desconto."
      ],
      "metadata": {
        "id": "pGOPwI_i5EOq"
      }
    },
    {
      "cell_type": "code",
      "source": [
        "#definir o valor gasto pelo cliente\n",
        "valor_gasto = float(input(\"Digite o valor gasto pelo cliente: R$ \"))\n",
        "\n",
        "#verificar se tem direito a desconto\n",
        "if valor_gasto > 1000:\n",
        "  novo_valor = valor_gasto * 0.9 #aplica 10% de desconto\n",
        "  print(f\"Você ganhou um desconto! O novo valor da compra é R${novo_valor:.2f}\")\n",
        "else:\n",
        "  print(\"Você não tem direito a desconto\")"
      ],
      "metadata": {
        "colab": {
          "base_uri": "https://localhost:8080/"
        },
        "id": "uEbqON54wPgg",
        "outputId": "69980854-932d-4ef7-821e-8e715da70337"
      },
      "execution_count": null,
      "outputs": [
        {
          "output_type": "stream",
          "name": "stdout",
          "text": [
            "Digite o valor gasto pelo cliente: R$ 1200\n",
            "Você ganhou um desconto! O novo valor da compra é R$1080.00\n"
          ]
        }
      ]
    },
    {
      "cell_type": "markdown",
      "source": [
        "4️⃣ Loops (for/while)\n",
        "Você precisa analisar as vendas do mês e calcular o total faturado por cada categoria.\n",
        "\n",
        "As vendas são separadas por categoria:\n",
        "vendas = {\n",
        "    \"Eletrônicos\": [2500, 1800, 3000, 1200],\n",
        "    \"Roupas\": [500, 150, 400, 1000],\n",
        "    \"Alimentos\": [120, 300, 450, 700]\n",
        "}\n",
        "Crie um loop for para calcular e exibir o total de vendas de cada categoria."
      ],
      "metadata": {
        "id": "XRCL0hMhvAw_"
      }
    },
    {
      "cell_type": "code",
      "source": [
        "#Dicionário com categorias e valores das compras\n",
        "vendas_por_categoria ={\n",
        "    \"Eletronicos\": [1500,3200,500,700],\n",
        "    \"Roupas\": [200,350,150,400,600],\n",
        "    \"Alimentos\": [50, 100, 30, 80, 200, 150]\n",
        "}#Loop para calcular o total de cada categoria\n",
        "for categoria, valores in vendas_por_categoria.items():\n",
        "  total_categoria = sum(valores) #soma os valores de cada categoria\n",
        "  print(f\"Total faturado em {categoria}: R${total_categoria:.2f}\")"
      ],
      "metadata": {
        "colab": {
          "base_uri": "https://localhost:8080/"
        },
        "id": "WT0urw0FvQIy",
        "outputId": "15860dcc-e91b-478e-fb9b-9d7e0d607081"
      },
      "execution_count": 1,
      "outputs": [
        {
          "output_type": "stream",
          "name": "stdout",
          "text": [
            "Total faturado em Eletronicos: R$5900.00\n",
            "Total faturado em Roupas: R$1700.00\n",
            "Total faturado em Alimentos: R$610.00\n"
          ]
        }
      ]
    },
    {
      "cell_type": "markdown",
      "source": [
        "1️⃣ O que faz o .items() no loop?\n",
        "\n",
        "O método .items() é usado em dicionários para obter pares chave-valor.\n",
        "\n",
        "No código abaixo:\n",
        "\n",
        "for categoria, valores in vendas_por_categoria.items():\n",
        "\n",
        "**vendas_por_categoria.items()** retorna cada chave e seu valor.\n",
        "\n",
        "**categoria** recebe o nome da categoria (chave do dicionário).\n",
        "\n",
        "**valores** recebe a lista de valores dessa categoria.\n",
        "\n",
        "Se o dicionário for:\n",
        "\n",
        "vendas_por_categoria = {\n",
        "\n",
        "    \"Eletrônicos\": [1500, 3200, 500, 700],\n",
        "\n",
        "    \"Roupas\": [200, 350, 150, 400, 600],\n",
        "}\n",
        "\n",
        "O .items() retorna:\n",
        "\n",
        "(\"Eletrônicos\", [1500, 3200, 500, 700])\n",
        "\n",
        "(\"Roupas\", [200, 350, 150, 400, 600])\n",
        "\n",
        "\n",
        "Isso permite acessar diretamente tanto a categoria quanto os valores.\n",
        "\n",
        "🔹 Sem **.items()**, o código precisaria de mais etapas, como pegar apenas as chaves e acessar os valores manualmente.\n",
        "\n",
        "\n",
        "\n",
        "\n",
        "\n"
      ],
      "metadata": {
        "id": "dNzmsZCzxMi9"
      }
    },
    {
      "cell_type": "markdown",
      "source": [
        "2️⃣ Como formatar as casas decimais em Python?\n",
        "\n",
        "Python oferece várias formas de formatar números com casas decimais. Vamos ver algumas:\n",
        "\n",
        "1. Usando f-strings (recomendado)\n",
        "\n",
        "valor = 1234.56789\n",
        "\n",
        "print(f\"Valor formatado: R${valor:.2f}\")\n",
        "\n",
        "Saída: R$1234.57\n",
        "\n",
        "2. Usando Decimal (para alta precisão)\n",
        "Se for necessário um cálculo financeiro exato (sem erros de arredondamento):\n",
        "\n",
        "from decimal import Decimal\n",
        "\n",
        "valor_decimal = Decimal(\"1234.56789\")\n",
        "\n",
        "print(f\"Valor exato: R${valor_decimal.quantize(Decimal('0.01'))}\")"
      ],
      "metadata": {
        "id": "fOGleNfSyS_n"
      }
    },
    {
      "cell_type": "markdown",
      "source": [
        "5️⃣ Funções\n",
        "\n",
        "Crie uma função chamada calcula_faturamento(vendas) que recebe uma lista de vendas e retorna o total faturado.\n",
        "\n",
        "Depois, use a função para calcular o faturamento total da loja com os seguintes valores de vendas:\n",
        "\n",
        "vendas = [1200, 3500, 2700, 1800, 500, 900]"
      ],
      "metadata": {
        "id": "DbB1n4iNzUIX"
      }
    },
    {
      "cell_type": "code",
      "source": [
        "def calcula_faturamento(vendas):\n",
        "  total = sum(vendas)\n",
        "  return total\n",
        "\n",
        "\n",
        ""
      ],
      "metadata": {
        "id": "hWgPtoh9zTlt"
      },
      "execution_count": 5,
      "outputs": []
    },
    {
      "cell_type": "code",
      "source": [
        "vendas = [1200, 3500, 2700, 1800, 500, 900]\n",
        "faturamento_total = calcula_faturamento(vendas)\n",
        "print(f\"Faturamento total: R${faturamento_total:.2f}\")"
      ],
      "metadata": {
        "colab": {
          "base_uri": "https://localhost:8080/"
        },
        "id": "uoZ1P-NG0igU",
        "outputId": "29843237-76d6-45fe-a5d1-f02a1290c46a"
      },
      "execution_count": 6,
      "outputs": [
        {
          "output_type": "stream",
          "name": "stdout",
          "text": [
            "Faturamento total: R$10600.00\n"
          ]
        }
      ]
    }
  ]
}